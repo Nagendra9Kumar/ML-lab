{
 "cells": [
  {
   "cell_type": "code",
   "execution_count": 1,
   "id": "aa6bf085-7b61-4de1-8ec1-19251534db06",
   "metadata": {},
   "outputs": [],
   "source": [
    "import pandas as pd"
   ]
  },
  {
   "cell_type": "code",
   "execution_count": 2,
   "id": "7081e015-5338-4c2a-a014-d8fef14b694d",
   "metadata": {},
   "outputs": [],
   "source": [
    "df = pd.read_csv(\"mobile_prices_2023.csv\")"
   ]
  },
  {
   "cell_type": "code",
   "execution_count": 5,
   "id": "aead3ef4-5ffc-4168-84b0-254dc7dbadd6",
   "metadata": {},
   "outputs": [
    {
     "data": {
      "text/html": [
       "<div>\n",
       "<style scoped>\n",
       "    .dataframe tbody tr th:only-of-type {\n",
       "        vertical-align: middle;\n",
       "    }\n",
       "\n",
       "    .dataframe tbody tr th {\n",
       "        vertical-align: top;\n",
       "    }\n",
       "\n",
       "    .dataframe thead th {\n",
       "        text-align: right;\n",
       "    }\n",
       "</style>\n",
       "<table border=\"1\" class=\"dataframe\">\n",
       "  <thead>\n",
       "    <tr style=\"text-align: right;\">\n",
       "      <th></th>\n",
       "      <th>Phone Name</th>\n",
       "      <th>Rating ?/5</th>\n",
       "      <th>Number of Ratings</th>\n",
       "      <th>RAM</th>\n",
       "      <th>ROM/Storage</th>\n",
       "      <th>Back/Rare Camera</th>\n",
       "      <th>Front Camera</th>\n",
       "      <th>Battery</th>\n",
       "      <th>Processor</th>\n",
       "      <th>Price in INR</th>\n",
       "      <th>Date of Scraping</th>\n",
       "    </tr>\n",
       "  </thead>\n",
       "  <tbody>\n",
       "    <tr>\n",
       "      <th>0</th>\n",
       "      <td>POCO C50 (Royal Blue, 32 GB)</td>\n",
       "      <td>4.2</td>\n",
       "      <td>33,561</td>\n",
       "      <td>2 GB RAM</td>\n",
       "      <td>32 GB ROM</td>\n",
       "      <td>8MP Dual Camera</td>\n",
       "      <td>5MP Front Camera</td>\n",
       "      <td>5000 mAh</td>\n",
       "      <td>Mediatek Helio A22 Processor, Upto 2.0 GHz Pro...</td>\n",
       "      <td>₹5,649</td>\n",
       "      <td>2023-06-17</td>\n",
       "    </tr>\n",
       "    <tr>\n",
       "      <th>1</th>\n",
       "      <td>POCO M4 5G (Cool Blue, 64 GB)</td>\n",
       "      <td>4.2</td>\n",
       "      <td>77,128</td>\n",
       "      <td>4 GB RAM</td>\n",
       "      <td>64 GB ROM</td>\n",
       "      <td>50MP + 2MP</td>\n",
       "      <td>8MP Front Camera</td>\n",
       "      <td>5000 mAh</td>\n",
       "      <td>Mediatek Dimensity 700 Processor</td>\n",
       "      <td>₹11,999</td>\n",
       "      <td>2023-06-17</td>\n",
       "    </tr>\n",
       "    <tr>\n",
       "      <th>2</th>\n",
       "      <td>POCO C51 (Royal Blue, 64 GB)</td>\n",
       "      <td>4.3</td>\n",
       "      <td>15,175</td>\n",
       "      <td>4 GB RAM</td>\n",
       "      <td>64 GB ROM</td>\n",
       "      <td>8MP Dual Rear Camera</td>\n",
       "      <td>5MP Front Camera</td>\n",
       "      <td>5000 mAh</td>\n",
       "      <td>Helio G36 Processor</td>\n",
       "      <td>₹6,999</td>\n",
       "      <td>2023-06-17</td>\n",
       "    </tr>\n",
       "  </tbody>\n",
       "</table>\n",
       "</div>"
      ],
      "text/plain": [
       "                      Phone Name  Rating ?/5 Number of Ratings       RAM  \\\n",
       "0   POCO C50 (Royal Blue, 32 GB)         4.2            33,561  2 GB RAM   \n",
       "1  POCO M4 5G (Cool Blue, 64 GB)         4.2            77,128  4 GB RAM   \n",
       "2   POCO C51 (Royal Blue, 64 GB)         4.3            15,175  4 GB RAM   \n",
       "\n",
       "  ROM/Storage      Back/Rare Camera      Front Camera   Battery  \\\n",
       "0   32 GB ROM       8MP Dual Camera  5MP Front Camera  5000 mAh   \n",
       "1   64 GB ROM            50MP + 2MP  8MP Front Camera  5000 mAh   \n",
       "2   64 GB ROM  8MP Dual Rear Camera  5MP Front Camera  5000 mAh   \n",
       "\n",
       "                                           Processor Price in INR  \\\n",
       "0  Mediatek Helio A22 Processor, Upto 2.0 GHz Pro...       ₹5,649   \n",
       "1                   Mediatek Dimensity 700 Processor      ₹11,999   \n",
       "2                                Helio G36 Processor       ₹6,999   \n",
       "\n",
       "  Date of Scraping  \n",
       "0       2023-06-17  \n",
       "1       2023-06-17  \n",
       "2       2023-06-17  "
      ]
     },
     "execution_count": 5,
     "metadata": {},
     "output_type": "execute_result"
    }
   ],
   "source": [
    "df.head(3)"
   ]
  },
  {
   "cell_type": "code",
   "execution_count": null,
   "id": "dc0f6824-f870-42e9-9d3d-687c683c59b0",
   "metadata": {},
   "outputs": [],
   "source": []
  }
 ],
 "metadata": {
  "kernelspec": {
   "display_name": "Python 3 (ipykernel)",
   "language": "python",
   "name": "python3"
  },
  "language_info": {
   "codemirror_mode": {
    "name": "ipython",
    "version": 3
   },
   "file_extension": ".py",
   "mimetype": "text/x-python",
   "name": "python",
   "nbconvert_exporter": "python",
   "pygments_lexer": "ipython3",
   "version": "3.12.4"
  }
 },
 "nbformat": 4,
 "nbformat_minor": 5
}
