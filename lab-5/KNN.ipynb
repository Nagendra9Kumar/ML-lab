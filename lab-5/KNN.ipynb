{
 "cells": [
  {
   "cell_type": "markdown",
   "metadata": {},
   "source": [
    "# Import necessary libraries"
   ]
  },
  {
   "cell_type": "code",
   "execution_count": 46,
   "metadata": {},
   "outputs": [],
   "source": [
    "import pandas as pd\n",
    "import numpy as np"
   ]
  },
  {
   "cell_type": "markdown",
   "metadata": {},
   "source": [
    "# Step 1: Load the Iris dataset from a CSV file"
   ]
  },
  {
   "cell_type": "code",
   "execution_count": 47,
   "metadata": {},
   "outputs": [],
   "source": [
    "file_path = 'iris.csv'  \n",
    "df = pd.read_csv(file_path)\n",
    "df = df[['SepalLength','SepalWidth','Species']]"
   ]
  },
  {
   "cell_type": "markdown",
   "metadata": {},
   "source": [
    "# Print the loaded dataset"
   ]
  },
  {
   "cell_type": "code",
   "execution_count": 48,
   "metadata": {},
   "outputs": [
    {
     "name": "stdout",
     "output_type": "stream",
     "text": [
      "Loaded Iris Dataset:\n",
      "     SepalLength  SepalWidth         Species\n",
      "0            5.1         3.5     Iris-setosa\n",
      "1            4.9         3.0     Iris-setosa\n",
      "2            4.7         3.2     Iris-setosa\n",
      "3            4.6         3.1     Iris-setosa\n",
      "4            5.0         3.6     Iris-setosa\n",
      "..           ...         ...             ...\n",
      "145          6.7         3.0  Iris-virginica\n",
      "146          6.3         2.5  Iris-virginica\n",
      "147          6.5         3.0  Iris-virginica\n",
      "148          6.2         3.4  Iris-virginica\n",
      "149          5.9         3.0  Iris-virginica\n",
      "\n",
      "[150 rows x 3 columns]\n"
     ]
    }
   ],
   "source": [
    "print(\"Loaded Iris Dataset:\")\n",
    "print(df)"
   ]
  },
  {
   "cell_type": "markdown",
   "metadata": {},
   "source": [
    "# Step 2: Take a sample input (Sepal Length, Sepal Width)"
   ]
  },
  {
   "cell_type": "code",
   "execution_count": 49,
   "metadata": {},
   "outputs": [],
   "source": [
    "sample_sepal_length = 5.0\n",
    "sample_sepal_width = 3.5"
   ]
  },
  {
   "cell_type": "markdown",
   "metadata": {},
   "source": [
    "# Calculate Euclidean distance between the sample and each row in the dataset"
   ]
  },
  {
   "cell_type": "code",
   "execution_count": 50,
   "metadata": {},
   "outputs": [],
   "source": [
    "df['Distance'] = np.sqrt((df['SepalLength'] - sample_sepal_length) ** 2 + (df['SepalWidth'] - sample_sepal_width) ** 2)"
   ]
  },
  {
   "cell_type": "markdown",
   "metadata": {},
   "source": [
    "# Print the dataset with the new 'Distance' column"
   ]
  },
  {
   "cell_type": "code",
   "execution_count": 51,
   "metadata": {},
   "outputs": [
    {
     "name": "stdout",
     "output_type": "stream",
     "text": [
      "\n",
      "Dataset with Distance to the Sample:\n",
      "     SepalLength  SepalWidth         Species  Distance\n",
      "0            5.1         3.5     Iris-setosa  0.100000\n",
      "1            4.9         3.0     Iris-setosa  0.509902\n",
      "2            4.7         3.2     Iris-setosa  0.424264\n",
      "3            4.6         3.1     Iris-setosa  0.565685\n",
      "4            5.0         3.6     Iris-setosa  0.100000\n",
      "..           ...         ...             ...       ...\n",
      "145          6.7         3.0  Iris-virginica  1.772005\n",
      "146          6.3         2.5  Iris-virginica  1.640122\n",
      "147          6.5         3.0  Iris-virginica  1.581139\n",
      "148          6.2         3.4  Iris-virginica  1.204159\n",
      "149          5.9         3.0  Iris-virginica  1.029563\n",
      "\n",
      "[150 rows x 4 columns]\n"
     ]
    }
   ],
   "source": [
    "print(\"\\nDataset with Distance to the Sample:\")\n",
    "print(df)"
   ]
  },
  {
   "cell_type": "markdown",
   "metadata": {},
   "source": [
    "# Step 3: Rank the rows based on the 'Distance' column"
   ]
  },
  {
   "cell_type": "code",
   "execution_count": 52,
   "metadata": {},
   "outputs": [],
   "source": [
    "df['Rank'] = df['Distance'].rank(method='min')"
   ]
  },
  {
   "cell_type": "markdown",
   "metadata": {},
   "source": [
    "# Print the dataset with the new 'Rank' column"
   ]
  },
  {
   "cell_type": "code",
   "execution_count": 53,
   "metadata": {},
   "outputs": [
    {
     "name": "stdout",
     "output_type": "stream",
     "text": [
      "\n",
      "Dataset with Distance and Rank:\n",
      "     SepalLength  SepalWidth         Species  Distance   Rank\n",
      "0            5.1         3.5     Iris-setosa  0.100000    3.0\n",
      "1            4.9         3.0     Iris-setosa  0.509902   35.0\n",
      "2            4.7         3.2     Iris-setosa  0.424264   28.0\n",
      "3            4.6         3.1     Iris-setosa  0.565685   38.0\n",
      "4            5.0         3.6     Iris-setosa  0.100000    5.0\n",
      "..           ...         ...             ...       ...    ...\n",
      "145          6.7         3.0  Iris-virginica  1.772005  128.0\n",
      "146          6.3         2.5  Iris-virginica  1.640122  114.0\n",
      "147          6.5         3.0  Iris-virginica  1.581139  110.0\n",
      "148          6.2         3.4  Iris-virginica  1.204159   81.0\n",
      "149          5.9         3.0  Iris-virginica  1.029563   65.0\n",
      "\n",
      "[150 rows x 5 columns]\n"
     ]
    }
   ],
   "source": [
    "print(\"\\nDataset with Distance and Rank:\")\n",
    "print(df)"
   ]
  },
  {
   "cell_type": "markdown",
   "metadata": {},
   "source": [
    "# Step 4: Find the nearest neighbors and predict the group for the sample\n",
    "# Sort by distance and get the top nearest neighbor(s)\n",
    " # You can change k to consider more neighbors"
   ]
  },
  {
   "cell_type": "code",
   "execution_count": 54,
   "metadata": {},
   "outputs": [],
   "source": [
    "k=5\n",
    "nearest_neighbors = df.nsmallest(k, 'Distance')"
   ]
  },
  {
   "cell_type": "markdown",
   "metadata": {},
   "source": [
    "# Print the nearest neighbors"
   ]
  },
  {
   "cell_type": "code",
   "execution_count": 55,
   "metadata": {},
   "outputs": [
    {
     "name": "stdout",
     "output_type": "stream",
     "text": [
      "\n",
      "Top 5 Nearest Neighbors:\n",
      "    SepalLength  SepalWidth      Species  Distance  Rank\n",
      "40          5.0         3.5  Iris-setosa       0.0   1.0\n",
      "43          5.0         3.5  Iris-setosa       0.0   1.0\n",
      "0           5.1         3.5  Iris-setosa       0.1   3.0\n",
      "17          5.1         3.5  Iris-setosa       0.1   3.0\n",
      "4           5.0         3.6  Iris-setosa       0.1   5.0\n"
     ]
    }
   ],
   "source": [
    "print(f\"\\nTop {k} Nearest Neighbors:\")\n",
    "print(nearest_neighbors)"
   ]
  },
  {
   "cell_type": "markdown",
   "metadata": {},
   "source": [
    "# Predict the most common species among the nearest neighbors"
   ]
  },
  {
   "cell_type": "code",
   "execution_count": 56,
   "metadata": {},
   "outputs": [],
   "source": [
    "predicted_species = nearest_neighbors['Species'].mode()[0]"
   ]
  },
  {
   "cell_type": "markdown",
   "metadata": {},
   "source": [
    "# Print the predicted species for the sample"
   ]
  },
  {
   "cell_type": "code",
   "execution_count": 57,
   "metadata": {},
   "outputs": [
    {
     "name": "stdout",
     "output_type": "stream",
     "text": [
      "\n",
      "The predicted species for the sample with Sepal Length = 5.0 and Sepal Width = 3.5 is: Iris-setosa\n"
     ]
    }
   ],
   "source": [
    "print(f\"\\nThe predicted species for the sample with Sepal Length = {sample_sepal_length} \"\n",
    "      f\"and Sepal Width = {sample_sepal_width} is: {predicted_species}\")"
   ]
  },
  {
   "cell_type": "code",
   "execution_count": 64,
   "metadata": {},
   "outputs": [],
   "source": [
    "data = pd.read_csv(file_path)"
   ]
  },
  {
   "cell_type": "code",
   "execution_count": 67,
   "metadata": {},
   "outputs": [],
   "source": [
    "x= data[['SepalLength','SepalWidth']]\n",
    "y= data['Species'] "
   ]
  },
  {
   "cell_type": "code",
   "execution_count": 70,
   "metadata": {},
   "outputs": [],
   "source": [
    "from sklearn.model_selection import train_test_split  \n",
    "x_train, x_test, y_train, y_test= train_test_split(x, y, test_size= 0.25, random_state=0)"
   ]
  },
  {
   "cell_type": "code",
   "execution_count": 71,
   "metadata": {},
   "outputs": [],
   "source": [
    "from sklearn.neighbors import KNeighborsClassifier\n",
    "classifier = KNeighborsClassifier(n_neighbors=5).fit(x_train, y_train)"
   ]
  },
  {
   "cell_type": "code",
   "execution_count": 72,
   "metadata": {},
   "outputs": [],
   "source": [
    "ypred = classifier.predict(x_test)"
   ]
  },
  {
   "cell_type": "code",
   "execution_count": 73,
   "metadata": {},
   "outputs": [
    {
     "name": "stdout",
     "output_type": "stream",
     "text": [
      "\n",
      "-------------------------------------------------------------------------\n",
      "Original Label            Predicted Label           Correct/Wrong            \n",
      "-------------------------------------------------------------------------\n",
      "Iris-virginica            Iris-versicolor           Wrong                    \n",
      "Iris-versicolor           Iris-versicolor           Correct                  \n",
      "Iris-setosa               Iris-setosa               Correct                  \n",
      "Iris-virginica            Iris-virginica            Correct                  \n",
      "Iris-setosa               Iris-setosa               Correct                  \n",
      "Iris-virginica            Iris-virginica            Correct                  \n",
      "Iris-setosa               Iris-setosa               Correct                  \n",
      "Iris-versicolor           Iris-virginica            Wrong                    \n",
      "Iris-versicolor           Iris-versicolor           Correct                  \n",
      "Iris-versicolor           Iris-virginica            Wrong                    \n",
      "Iris-virginica            Iris-virginica            Correct                  \n",
      "Iris-versicolor           Iris-virginica            Wrong                    \n",
      "Iris-versicolor           Iris-virginica            Wrong                    \n",
      "Iris-versicolor           Iris-virginica            Wrong                    \n",
      "Iris-versicolor           Iris-virginica            Wrong                    \n",
      "Iris-setosa               Iris-setosa               Correct                  \n",
      "Iris-versicolor           Iris-versicolor           Correct                  \n",
      "Iris-versicolor           Iris-versicolor           Correct                  \n",
      "Iris-setosa               Iris-setosa               Correct                  \n",
      "Iris-setosa               Iris-setosa               Correct                  \n",
      "Iris-virginica            Iris-versicolor           Wrong                    \n",
      "Iris-versicolor           Iris-versicolor           Correct                  \n",
      "Iris-setosa               Iris-setosa               Correct                  \n",
      "Iris-setosa               Iris-setosa               Correct                  \n",
      "Iris-virginica            Iris-virginica            Correct                  \n",
      "Iris-setosa               Iris-setosa               Correct                  \n",
      "Iris-setosa               Iris-setosa               Correct                  \n",
      "Iris-versicolor           Iris-virginica            Wrong                    \n",
      "Iris-versicolor           Iris-versicolor           Correct                  \n",
      "Iris-setosa               Iris-setosa               Correct                  \n",
      "Iris-virginica            Iris-virginica            Correct                  \n",
      "Iris-versicolor           Iris-versicolor           Correct                  \n",
      "Iris-setosa               Iris-setosa               Correct                  \n",
      "Iris-virginica            Iris-virginica            Correct                  \n",
      "Iris-virginica            Iris-virginica            Correct                  \n",
      "Iris-versicolor           Iris-versicolor           Correct                  \n",
      "Iris-setosa               Iris-setosa               Correct                  \n",
      "Iris-versicolor           Iris-versicolor           Correct                  \n",
      "-------------------------------------------------------------------------\n",
      "\n",
      "Confusion Matrix:\n",
      " [[13  0  0]\n",
      " [ 0  9  7]\n",
      " [ 0  2  7]]\n",
      "-------------------------------------------------------------------------\n",
      "\n",
      "Classification Report:\n",
      "                  precision    recall  f1-score   support\n",
      "\n",
      "    Iris-setosa       1.00      1.00      1.00        13\n",
      "Iris-versicolor       0.82      0.56      0.67        16\n",
      " Iris-virginica       0.50      0.78      0.61         9\n",
      "\n",
      "       accuracy                           0.76        38\n",
      "      macro avg       0.77      0.78      0.76        38\n",
      "   weighted avg       0.81      0.76      0.77        38\n",
      "\n",
      "-------------------------------------------------------------------------\n",
      "Accuracy of the classifer is 0.76\n",
      "-------------------------------------------------------------------------\n"
     ]
    }
   ],
   "source": [
    "from sklearn import metrics\n",
    "i = 0\n",
    "print (\"\\n-------------------------------------------------------------------------\")\n",
    "print ('%-25s %-25s %-25s' % ('Original Label', 'Predicted Label', 'Correct/Wrong'))\n",
    "print (\"-------------------------------------------------------------------------\")\n",
    "for label in y_test:\n",
    "    print ('%-25s %-25s' % (label, ypred[i]), end=\"\")\n",
    "    if (label == ypred[i]):\n",
    "        print (' %-25s' % ('Correct'))\n",
    "    else:\n",
    "        print (' %-25s' % ('Wrong'))\n",
    "    i = i + 1\n",
    "print (\"-------------------------------------------------------------------------\")\n",
    "print(\"\\nConfusion Matrix:\\n\",metrics.confusion_matrix(y_test, ypred))  \n",
    "print (\"-------------------------------------------------------------------------\")\n",
    "print(\"\\nClassification Report:\\n\",metrics.classification_report(y_test, ypred)) \n",
    "print (\"-------------------------------------------------------------------------\")\n",
    "print('Accuracy of the classifer is %0.2f' % metrics.accuracy_score(y_test,ypred))\n",
    "print (\"-------------------------------------------------------------------------\")"
   ]
  },
  {
   "cell_type": "code",
   "execution_count": null,
   "metadata": {},
   "outputs": [],
   "source": []
  }
 ],
 "metadata": {
  "kernelspec": {
   "display_name": "Python 3 (ipykernel)",
   "language": "python",
   "name": "python3"
  },
  "language_info": {
   "codemirror_mode": {
    "name": "ipython",
    "version": 3
   },
   "file_extension": ".py",
   "mimetype": "text/x-python",
   "name": "python",
   "nbconvert_exporter": "python",
   "pygments_lexer": "ipython3",
   "version": "3.12.4"
  }
 },
 "nbformat": 4,
 "nbformat_minor": 4
}
